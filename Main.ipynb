{
 "cells": [
  {
   "cell_type": "code",
   "execution_count": 67,
   "metadata": {
    "collapsed": true
   },
   "outputs": [
    {
     "ename": "SyntaxError",
     "evalue": "unexpected EOF while parsing (Datasets.py, line 3)",
     "output_type": "error",
     "traceback": [
      "Traceback \u001B[0;36m(most recent call last)\u001B[0m:\n",
      "  File \u001B[1;32m\"/Users/a.block/Library/Python/3.8/lib/python/site-packages/IPython/core/interactiveshell.py\"\u001B[0m, line \u001B[1;32m3457\u001B[0m, in \u001B[1;35mrun_code\u001B[0m\n    exec(code_obj, self.user_global_ns, self.user_ns)\n",
      "\u001B[0;36m  File \u001B[0;32m\"/var/folders/5x/m7lb9lzs49170h6y7nsh5jq80000gp/T/ipykernel_8300/3509383008.py\"\u001B[0;36m, line \u001B[0;32m2\u001B[0;36m, in \u001B[0;35m<module>\u001B[0;36m\u001B[0m\n\u001B[0;31m    from Datasets import get_loader\u001B[0m\n",
      "\u001B[0;36m  File \u001B[0;32m\"/Users/a.block/PycharmProjects/MoCo/Datasets.py\"\u001B[0;36m, line \u001B[0;32m3\u001B[0m\n\u001B[0;31m    def get_loader():\u001B[0m\n\u001B[0m                     ^\u001B[0m\n\u001B[0;31mSyntaxError\u001B[0m\u001B[0;31m:\u001B[0m unexpected EOF while parsing\n"
     ]
    }
   ],
   "source": [
    "import torch\n",
    "from Datasets import get_loader\n",
    "from Augmentations import get_aug\n",
    "from MoCoTrainer import get_MoCo_feature_extractor"
   ]
  },
  {
   "cell_type": "code",
   "execution_count": null,
   "outputs": [],
   "source": [],
   "metadata": {
    "collapsed": false,
    "pycharm": {
     "name": "#%%\n"
    }
   }
  }
 ],
 "metadata": {
  "kernelspec": {
   "display_name": "Python 3",
   "language": "python",
   "name": "python3"
  },
  "language_info": {
   "codemirror_mode": {
    "name": "ipython",
    "version": 2
   },
   "file_extension": ".py",
   "mimetype": "text/x-python",
   "name": "python",
   "nbconvert_exporter": "python",
   "pygments_lexer": "ipython2",
   "version": "2.7.6"
  }
 },
 "nbformat": 4,
 "nbformat_minor": 0
}